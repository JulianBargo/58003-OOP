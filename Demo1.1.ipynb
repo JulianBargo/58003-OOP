{
  "nbformat": 4,
  "nbformat_minor": 0,
  "metadata": {
    "colab": {
      "provenance": [],
      "authorship_tag": "ABX9TyPzVRZ2/EH/80gFlOfv0v61",
      "include_colab_link": true
    },
    "kernelspec": {
      "name": "python3",
      "display_name": "Python 3"
    },
    "language_info": {
      "name": "python"
    }
  },
  "cells": [
    {
      "cell_type": "markdown",
      "metadata": {
        "id": "view-in-github",
        "colab_type": "text"
      },
      "source": [
        "<a href=\"https://colab.research.google.com/github/JulianBargo/58003-OOP/blob/main/Demo1.1.ipynb\" target=\"_parent\"><img src=\"https://colab.research.google.com/assets/colab-badge.svg\" alt=\"Open In Colab\"/></a>"
      ]
    },
    {
      "cell_type": "markdown",
      "source": [
        "Introduction to Python Fundamentals"
      ],
      "metadata": {
        "id": "XkmHD_VCFi4z"
      }
    },
    {
      "cell_type": "code",
      "source": [
        "#Python Indentation\n",
        "if 5>2:\n",
        "  print(\"5 is greater than 2\")"
      ],
      "metadata": {
        "colab": {
          "base_uri": "https://localhost:8080/"
        },
        "id": "_WVl7FyeFn6D",
        "outputId": "b8167f2a-af05-4bd4-ddf6-9a7b66aa5f53"
      },
      "execution_count": 3,
      "outputs": [
        {
          "output_type": "stream",
          "name": "stdout",
          "text": [
            "5 is greater than 2\n"
          ]
        }
      ]
    },
    {
      "cell_type": "code",
      "source": [
        "#Declaration of Variable\n",
        "x=5\n",
        "y=2\n",
        "if x>y:\n",
        "  print(\"5 is greater than 2\")\n",
        "elif x<y:\n",
        "  print(\"2 is greater than 5\")\n",
        "else:\n",
        "    print(\"5 and 2 are equal\")"
      ],
      "metadata": {
        "colab": {
          "base_uri": "https://localhost:8080/"
        },
        "id": "r_Us_42AHPjb",
        "outputId": "969b9bb9-2b64-4f71-83ae-237835205f9e"
      },
      "execution_count": 5,
      "outputs": [
        {
          "output_type": "stream",
          "name": "stdout",
          "text": [
            "5 is greater than 2\n"
          ]
        }
      ]
    },
    {
      "cell_type": "code",
      "source": [
        "#Python Variable\n",
        "a,b,c=0,-1,2\n",
        "print (a,b,c)\n",
        "\n"
      ],
      "metadata": {
        "colab": {
          "base_uri": "https://localhost:8080/"
        },
        "id": "GUMmTeAOK-uC",
        "outputId": "7f7b953e-a24a-4a69-ef4f-22bb43e7f45e"
      },
      "execution_count": 8,
      "outputs": [
        {
          "output_type": "stream",
          "name": "stdout",
          "text": [
            "0 -1 2\n"
          ]
        }
      ]
    },
    {
      "cell_type": "code",
      "source": [
        "#single variable with multiple values\n",
        "a=b=c=4.5\n",
        "print(a)\n",
        "print(b)\n",
        "print(c)"
      ],
      "metadata": {
        "colab": {
          "base_uri": "https://localhost:8080/"
        },
        "id": "NjT-QheMMmKL",
        "outputId": "7ebc55a5-03bb-47ac-ab8a-0fc6087960f3"
      },
      "execution_count": 12,
      "outputs": [
        {
          "output_type": "stream",
          "name": "stdout",
          "text": [
            "4.5\n",
            "4.5\n",
            "4.5\n"
          ]
        }
      ]
    },
    {
      "cell_type": "code",
      "source": [
        "print(type(a))"
      ],
      "metadata": {
        "colab": {
          "base_uri": "https://localhost:8080/"
        },
        "id": "umlEaRpkM3QC",
        "outputId": "026caaad-3fa9-4421-8ab2-439057472759"
      },
      "execution_count": 13,
      "outputs": [
        {
          "output_type": "stream",
          "name": "stdout",
          "text": [
            "<class 'float'>\n"
          ]
        }
      ]
    }
  ]
}