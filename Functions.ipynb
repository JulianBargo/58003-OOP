{
  "nbformat": 4,
  "nbformat_minor": 0,
  "metadata": {
    "colab": {
      "provenance": [],
      "authorship_tag": "ABX9TyNtaf9hsADIRWFkeer3b6zK",
      "include_colab_link": true
    },
    "kernelspec": {
      "name": "python3",
      "display_name": "Python 3"
    },
    "language_info": {
      "name": "python"
    }
  },
  "cells": [
    {
      "cell_type": "markdown",
      "metadata": {
        "id": "view-in-github",
        "colab_type": "text"
      },
      "source": [
        "<a href=\"https://colab.research.google.com/github/JulianBargo/58003-OOP/blob/main/Functions.ipynb\" target=\"_parent\"><img src=\"https://colab.research.google.com/assets/colab-badge.svg\" alt=\"Open In Colab\"/></a>"
      ]
    },
    {
      "cell_type": "code",
      "execution_count": null,
      "metadata": {
        "colab": {
          "base_uri": "https://localhost:8080/"
        },
        "id": "xxmrJyb-ARGA",
        "outputId": "43a651a0-ce07-47c8-966a-7ad601f1997a"
      },
      "outputs": [
        {
          "output_type": "stream",
          "name": "stdout",
          "text": [
            "['abc', 1, 3, 1]\n",
            "['abc', 1, 2, 3, 1]\n"
          ]
        }
      ],
      "source": [
        "fruits = ['abc',1,3,1]\n",
        "print(fruits)\n",
        "fruits.insert(2,2)\n",
        "print(fruits)"
      ]
    },
    {
      "cell_type": "code",
      "source": [
        "class Persons: \n",
        "  def __init__(self,name,age):\n",
        "    self.name = name\n",
        "    self.age = age\n",
        "\n",
        "student = Persons(\"ana\",20)\n",
        "teacher = Persons(\"Mam Sayo\",40)\n",
        "print(student.name)\n",
        "print(student.age)\n",
        "\n",
        "print(teacher.name)\n",
        "print(teacher.age)"
      ],
      "metadata": {
        "id": "dbc-X39LCUwG",
        "colab": {
          "base_uri": "https://localhost:8080/"
        },
        "outputId": "3e3fd3dd-e738-4fd2-ab44-d3673a30d290"
      },
      "execution_count": 1,
      "outputs": [
        {
          "output_type": "stream",
          "name": "stdout",
          "text": [
            "ana\n",
            "20\n",
            "Mam Sayo\n",
            "40\n"
          ]
        }
      ]
    },
    {
      "cell_type": "code",
      "source": [
        "class Shapes:\n",
        "  def __init__(self,length,width):\n",
        "    self.length = length\n",
        "    self.width = width\n",
        "  def area(self):\n",
        "    return self.length*self.width\n",
        "\n",
        "rectangle = Shapes(5,5)\n",
        "rectangle.area()\n"
      ],
      "metadata": {
        "colab": {
          "base_uri": "https://localhost:8080/"
        },
        "id": "DROOfakaEBre",
        "outputId": "73028d5e-ba6b-46e7-9aa2-dd2ba3e78169"
      },
      "execution_count": null,
      "outputs": [
        {
          "output_type": "execute_result",
          "data": {
            "text/plain": [
              "25"
            ]
          },
          "metadata": {},
          "execution_count": 33
        }
      ]
    },
    {
      "cell_type": "markdown",
      "source": [
        "Lists"
      ],
      "metadata": {
        "id": "7aegG-W-JEUn"
      }
    },
    {
      "cell_type": "code",
      "source": [
        "pi = 3.1416\n",
        "varList = [1,2,'abc',\"hello\",pi]\n",
        "print(varList[0])\n",
        "print(varList[4])"
      ],
      "metadata": {
        "colab": {
          "base_uri": "https://localhost:8080/"
        },
        "id": "WAKZby-PJFoP",
        "outputId": "531041ff-04b8-482c-f455-3efba113cba9"
      },
      "execution_count": null,
      "outputs": [
        {
          "output_type": "stream",
          "name": "stdout",
          "text": [
            "1\n",
            "3.1416\n"
          ]
        }
      ]
    },
    {
      "cell_type": "code",
      "source": [
        "varList.append(5)\n",
        "print(varList)"
      ],
      "metadata": {
        "colab": {
          "base_uri": "https://localhost:8080/"
        },
        "id": "vxwa7pWjJj5g",
        "outputId": "88cb2b66-eb55-4286-9adb-ff6686c92822"
      },
      "execution_count": null,
      "outputs": [
        {
          "output_type": "stream",
          "name": "stdout",
          "text": [
            "[1, 2, 'abc', 'hello', 3.1416, 5]\n"
          ]
        }
      ]
    },
    {
      "cell_type": "code",
      "source": [
        "varList.remove('abc')\n",
        "print(varList)"
      ],
      "metadata": {
        "colab": {
          "base_uri": "https://localhost:8080/"
        },
        "id": "6yc9qkoVJj4f",
        "outputId": "e29a10b9-c4a3-4a72-da16-9f2c7e3548e8"
      },
      "execution_count": null,
      "outputs": [
        {
          "output_type": "stream",
          "name": "stdout",
          "text": [
            "[1, 2, 'hello']\n"
          ]
        }
      ]
    },
    {
      "cell_type": "code",
      "source": [
        "var = \"Hello World!\"\n",
        "varDict = {'first':123, \n",
        "           2 :'abc',\n",
        "           '3': var,\n",
        "           4 : ['lista','listb'],\n",
        "           2: 'def',\n",
        "           2:'ghi'\n",
        "           }\n",
        "print(varDict)"
      ],
      "metadata": {
        "colab": {
          "base_uri": "https://localhost:8080/"
        },
        "id": "4Db6yKPgLEP4",
        "outputId": "95e6ff5c-2aeb-4d61-f047-e5d1c2ac30e7"
      },
      "execution_count": null,
      "outputs": [
        {
          "output_type": "stream",
          "name": "stdout",
          "text": [
            "{'first': 123, 2: 'ghi', '3': 'Hello World!', 4: ['lista', 'listb']}\n"
          ]
        }
      ]
    },
    {
      "cell_type": "markdown",
      "source": [
        "Slicing"
      ],
      "metadata": {
        "id": "F1-jYI7xOUyo"
      }
    },
    {
      "cell_type": "code",
      "source": [
        "varList = [1,2,3,4,5,6,7,8,9,10]\n",
        "print(varList[:2])"
      ],
      "metadata": {
        "colab": {
          "base_uri": "https://localhost:8080/"
        },
        "id": "sU_XTlKvOV7w",
        "outputId": "432a499d-ccfd-4159-c0e8-57a017796234"
      },
      "execution_count": null,
      "outputs": [
        {
          "output_type": "stream",
          "name": "stdout",
          "text": [
            "[1, 2]\n"
          ]
        }
      ]
    }
  ]
}