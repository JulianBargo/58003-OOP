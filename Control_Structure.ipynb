{
  "nbformat": 4,
  "nbformat_minor": 0,
  "metadata": {
    "colab": {
      "provenance": [],
      "authorship_tag": "ABX9TyORgAEdPEhwDgaIZj1Ph9Ia",
      "include_colab_link": true
    },
    "kernelspec": {
      "name": "python3",
      "display_name": "Python 3"
    },
    "language_info": {
      "name": "python"
    }
  },
  "cells": [
    {
      "cell_type": "markdown",
      "metadata": {
        "id": "view-in-github",
        "colab_type": "text"
      },
      "source": [
        "<a href=\"https://colab.research.google.com/github/JulianBargo/58003-OOP/blob/main/Control_Structure.ipynb\" target=\"_parent\"><img src=\"https://colab.research.google.com/assets/colab-badge.svg\" alt=\"Open In Colab\"/></a>"
      ]
    },
    {
      "cell_type": "markdown",
      "source": [
        "If and Elif Condition"
      ],
      "metadata": {
        "id": "xSEGBxVl82lv"
      }
    },
    {
      "cell_type": "code",
      "source": [
        "if 3>5:\n",
        "  print(\"three is greater than five\")\n",
        "elif 3<5:\n",
        "  print(\"three is less than five\")"
      ],
      "metadata": {
        "colab": {
          "base_uri": "https://localhost:8080/"
        },
        "id": "eFDk1--g85SI",
        "outputId": "c7df9fe1-405c-4a11-d4ec-941c8ff5ecdd"
      },
      "execution_count": 1,
      "outputs": [
        {
          "output_type": "stream",
          "name": "stdout",
          "text": [
            "three is less than five\n"
          ]
        }
      ]
    },
    {
      "cell_type": "markdown",
      "source": [
        "If, Elif and Else"
      ],
      "metadata": {
        "id": "bVAikU3U94mH"
      }
    },
    {
      "cell_type": "code",
      "source": [
        "if 3>5:\n",
        "  print(\"three is greater than five\")\n",
        "elif 3==5:\n",
        "  print(\"three is less than five\")\n",
        "else:\n",
        "  print(\"Three is less than two\")"
      ],
      "metadata": {
        "colab": {
          "base_uri": "https://localhost:8080/"
        },
        "id": "Ae7pD0X698Pw",
        "outputId": "e7628ca0-68f1-48d6-c828-030106a043b2"
      },
      "execution_count": 5,
      "outputs": [
        {
          "output_type": "stream",
          "name": "stdout",
          "text": [
            "Three is less than two\n"
          ]
        }
      ]
    },
    {
      "cell_type": "markdown",
      "source": [
        "Application: Create a Python program that will compare if the student is in a Elementary, Secondary, and Tertiary Level\n"
      ],
      "metadata": {
        "id": "4VorX-DV-XKA"
      }
    },
    {
      "cell_type": "code",
      "source": [
        "print(\"Type the grade level of student \")\n",
        "print(\"1 - 6 - Elementary\")\n",
        "print(\"7 - 12 - Secondary\")\n",
        "print(\"None of the choices above - Tertiary\")\n",
        "\n",
        "x = int(input())\n",
        "if x == 1 or x==2 or x==3 or x==4 or x==5 or x==6: \n",
        "  print(\"Student is in Elementary Level\")\n",
        "elif x == 7 or x==8 or x==9 or x==10 or x==11 or x==12:\n",
        "  print(\"Student is in Secondary Level\")\n",
        "else:\n",
        "  print(\"Student is in Tertiary Level \")"
      ],
      "metadata": {
        "colab": {
          "base_uri": "https://localhost:8080/"
        },
        "id": "fd9g5vxz-r_n",
        "outputId": "99f1adc3-944e-4e21-ee47-8b2caba8f3b2"
      },
      "execution_count": 14,
      "outputs": [
        {
          "output_type": "stream",
          "name": "stdout",
          "text": [
            "Type the grade level of student \n",
            "1 - 6 - Elementary\n",
            "7 - 12 - Secondary\n",
            "None of the choices above - Tertiary\n",
            "8\n",
            "Student is in Secondary Level\n"
          ]
        }
      ]
    },
    {
      "cell_type": "markdown",
      "source": [
        "Short Hand If Statement"
      ],
      "metadata": {
        "id": "Z_uz2jyXBwXo"
      }
    },
    {
      "cell_type": "code",
      "source": [
        "a = 1\n",
        "b = 2\n",
        "if a<b:\n",
        "  print(\"a is less than b\")"
      ],
      "metadata": {
        "colab": {
          "base_uri": "https://localhost:8080/"
        },
        "id": "2f-4vVO8ByC3",
        "outputId": "ac89d992-968d-46f5-a5a0-b1d1c2a3c57b"
      },
      "execution_count": 15,
      "outputs": [
        {
          "output_type": "stream",
          "name": "stdout",
          "text": [
            "a is less than b\n"
          ]
        }
      ]
    },
    {
      "cell_type": "markdown",
      "source": [
        "Short Hand If... Else"
      ],
      "metadata": {
        "id": "4OFo5oC_Ckq3"
      }
    },
    {
      "cell_type": "code",
      "source": [
        "print(\"a is less than b\") if a<b else print(\"a is greater than b\")"
      ],
      "metadata": {
        "colab": {
          "base_uri": "https://localhost:8080/"
        },
        "id": "cMg5I6-rCnb3",
        "outputId": "dd8e6655-cf28-4e6e-c479-04d6fc3695e3"
      },
      "execution_count": 16,
      "outputs": [
        {
          "output_type": "stream",
          "name": "stdout",
          "text": [
            "a is less than b\n"
          ]
        }
      ]
    },
    {
      "cell_type": "markdown",
      "source": [
        "Nested IF"
      ],
      "metadata": {
        "id": "WEuRTZeHDrJ3"
      }
    },
    {
      "cell_type": "code",
      "source": [
        "x = 41\n",
        "if x>10:\n",
        "  print(\"Above ten, \")\n",
        "  if x>20:\n",
        "    print(\"and also above 20!\")\n",
        "    if x>30:\n",
        "      print(\"and also above 30!\")\n",
        "      if x>40:\n",
        "        print(\"and also above 40!\")\n",
        "        if x>50:\n",
        "          print(\"and also above 50!\")\n",
        "        else:\n",
        "          print(\"below 50\")\n",
        "      else:\n",
        "        print(\"below 40\")\n",
        "    else:\n",
        "      print(\"below 30\")\n",
        "  else:\n",
        "    print(\"but not above 20\")\n",
        "else:\n",
        "  print(\"below 10\")"
      ],
      "metadata": {
        "colab": {
          "base_uri": "https://localhost:8080/"
        },
        "id": "1xIXoq8yDxlX",
        "outputId": "aa54d3d3-560a-437d-866b-ee57a2c016dd"
      },
      "execution_count": 25,
      "outputs": [
        {
          "output_type": "stream",
          "name": "stdout",
          "text": [
            "Above ten, \n",
            "and also above 20!\n",
            "and also above 30!\n",
            "and also above 40!\n",
            "below 50\n"
          ]
        }
      ]
    },
    {
      "cell_type": "markdown",
      "source": [
        "Example 1"
      ],
      "metadata": {
        "id": "eAkjvdB7H1Yw"
      }
    },
    {
      "cell_type": "code",
      "source": [
        "# Write a program that determines if the input age is qualified to vote or not\n",
        "print(\"Type in your AGE\")\n",
        "print(\"Age: \") \n",
        "x = int(input())\n",
        "if x>18:\n",
        "  print(\"Qualified to Vote\")\n",
        "elif x==18:\n",
        "  print(\"Qualified to Vote\")\n",
        "else:\n",
        "  print(\"Not Qualified to Vote\")\n"
      ],
      "metadata": {
        "colab": {
          "base_uri": "https://localhost:8080/"
        },
        "id": "U9sFpPRPH5f_",
        "outputId": "966ecea2-417f-4a7e-99b7-5bf2399e7e1a"
      },
      "execution_count": 35,
      "outputs": [
        {
          "output_type": "stream",
          "name": "stdout",
          "text": [
            "Type in your AGE\n",
            "Age: \n",
            "17\n",
            "Not Qualified to Vote\n"
          ]
        }
      ]
    },
    {
      "cell_type": "markdown",
      "source": [
        "Example 2"
      ],
      "metadata": {
        "id": "CIkPgGz6Inw4"
      }
    },
    {
      "cell_type": "code",
      "source": [
        "#Write a program that determines if the input number is POSITIVE, NEGATIVE or ZERO\n",
        "print(\"Enter a Number\")\n",
        "x = int(input())\n",
        "if x==0:\n",
        "  print(\"ZERO\")\n",
        "elif x>0:\n",
        "  print(\"POSITIVE\")\n",
        "else:\n",
        "  print(\"NEGATIVE\")\n",
        "  "
      ],
      "metadata": {
        "colab": {
          "base_uri": "https://localhost:8080/"
        },
        "id": "xXEvBPehIpJ3",
        "outputId": "de9e8cf1-571c-4b82-ff56-923b14c1fd4e"
      },
      "execution_count": 40,
      "outputs": [
        {
          "output_type": "stream",
          "name": "stdout",
          "text": [
            "Enter a Number\n",
            "0\n",
            "ZERO\n"
          ]
        }
      ]
    },
    {
      "cell_type": "markdown",
      "source": [
        "Example 3"
      ],
      "metadata": {
        "id": "jcEOxtIYIwrg"
      }
    },
    {
      "cell_type": "code",
      "source": [
        "#Write a program that determine if the grades are PASSED, REMEDIAL or FAILED"
      ],
      "metadata": {
        "id": "EWle5GeyIx6o"
      },
      "execution_count": 26,
      "outputs": []
    },
    {
      "cell_type": "code",
      "source": [
        "print(\"Enter Your Grades\")\n",
        "x = float(input())\n",
        "if x>=70:\n",
        "  print(\"PASSED\")\n",
        "elif x>=64:\n",
        "  print(\"REMEDIAL\")\n",
        "elif x<0:\n",
        "  print(\"INVALID INPUT\")\n",
        "else:\n",
        "  print(\"FAILED\")"
      ],
      "metadata": {
        "colab": {
          "base_uri": "https://localhost:8080/"
        },
        "id": "J6aZ7cdfJcSX",
        "outputId": "8dc2c480-9399-406b-f23b-af8fbee92d9f"
      },
      "execution_count": 51,
      "outputs": [
        {
          "output_type": "stream",
          "name": "stdout",
          "text": [
            "Enter Your Grades\n",
            "-1\n",
            "INVALID INPUT\n"
          ]
        }
      ]
    }
  ]
}