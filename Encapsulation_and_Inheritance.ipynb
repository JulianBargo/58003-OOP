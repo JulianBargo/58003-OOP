{
  "nbformat": 4,
  "nbformat_minor": 0,
  "metadata": {
    "colab": {
      "provenance": [],
      "authorship_tag": "ABX9TyME2ACQKC7GYZpFWqMEVDmM",
      "include_colab_link": true
    },
    "kernelspec": {
      "name": "python3",
      "display_name": "Python 3"
    },
    "language_info": {
      "name": "python"
    }
  },
  "cells": [
    {
      "cell_type": "markdown",
      "metadata": {
        "id": "view-in-github",
        "colab_type": "text"
      },
      "source": [
        "<a href=\"https://colab.research.google.com/github/JulianBargo/58003-OOP/blob/main/Encapsulation_and_Inheritance.ipynb\" target=\"_parent\"><img src=\"https://colab.research.google.com/assets/colab-badge.svg\" alt=\"Open In Colab\"/></a>"
      ]
    },
    {
      "cell_type": "code",
      "execution_count": 1,
      "metadata": {
        "colab": {
          "base_uri": "https://localhost:8080/"
        },
        "id": "tZ-tdkTHVvA-",
        "outputId": "44844dde-44b2-4742-d7ec-234ab2378ffe"
      },
      "outputs": [
        {
          "output_type": "execute_result",
          "data": {
            "text/plain": [
              "7"
            ]
          },
          "metadata": {},
          "execution_count": 1
        }
      ],
      "source": [
        "class foo:\n",
        "  def __init__(self,a,b):\n",
        "    self.a = a\n",
        "    self.b = b\n",
        "  def add(self):\n",
        "    return self.a+self.b\n",
        "foo_object=foo(3,4)\n",
        "foo_object.add()"
      ]
    },
    {
      "cell_type": "code",
      "source": [
        "class Counter:\n",
        "  def __init__(self):\n",
        "    self.current = 0\n",
        "\n",
        "  def increment(self):\n",
        "    self.current += 1\n",
        "    \n",
        "  def value(self):\n",
        "    return self.current\n",
        "\n",
        "  def reset(self):\n",
        "    self.current = 0"
      ],
      "metadata": {
        "id": "O6H1m4HUclQ9"
      },
      "execution_count": 2,
      "outputs": []
    },
    {
      "cell_type": "code",
      "source": [
        "class Person:\n",
        "  def __init__(self,name,birthdate):\n",
        "    self.name = name\n",
        "    self.birthdate = birthdate\n",
        "  def display_identity(self):\n",
        "    print(\"My name is \",self.name)\n",
        "    print(\"My birthdate is \",self.birthdate)\n",
        "class Teacher(Person):\n",
        "  pass\n",
        "class Student(Person):\n",
        "  pass\n",
        "\n",
        "teacher = Teacher(\"Johnny\",\"June 9, 1969\")\n",
        "student = Student(\"Jordi\",\"April 20, 1996\")\n",
        "\n",
        "teacher.display_identity()\n",
        "student.display_identity()\n"
      ],
      "metadata": {
        "colab": {
          "base_uri": "https://localhost:8080/"
        },
        "id": "bsPZ3L9sfj34",
        "outputId": "2999e8c8-eb18-4674-d34e-21ae4c3b8c77"
      },
      "execution_count": 7,
      "outputs": [
        {
          "output_type": "stream",
          "name": "stdout",
          "text": [
            "My name is  Johnny\n",
            "My birthdate is  June 9, 1969\n",
            "My name is  Jordi\n",
            "My birthdate is  April 20, 1996\n"
          ]
        }
      ]
    },
    {
      "cell_type": "code",
      "source": [
        "# 5 examples of shapes\n",
        "# Apply Encapsulation by mangling\n",
        "# sides as attribute\n",
        "# display() method to show the number of sides\n",
        "#inherit the properties of each shape from the parent class shape\n",
        "class Shapes:\n",
        "  def __init__(self,side):\n",
        "    self.side = side\n",
        "  def display_sides(self):\n",
        "    print(self.side,\" is the number of sides\")\n",
        "\n",
        "class Pentagon(Shapes):\n",
        "  pass\n",
        "class Hexagon(Shapes):\n",
        "  pass\n",
        "class Square(Shapes):\n",
        "  pass\n",
        "class Triangle(Shapes):\n",
        "  pass\n",
        "class Circle(Shapes):\n",
        "  pass\n",
        "    \n",
        "pentagon = Pentagon(5)\n",
        "hexagon = Hexagon(6)\n",
        "square = Square(4)\n",
        "triangle = Triangle(3)\n",
        "circle = Circle(0)\n",
        "\n",
        "pentagon.display_sides()\n",
        "hexagon.display_sides()\n",
        "square.display_sides()\n",
        "triangle.display_sides()\n",
        "circle.display_sides()"
      ],
      "metadata": {
        "colab": {
          "base_uri": "https://localhost:8080/"
        },
        "id": "h--R2kG6gCu6",
        "outputId": "d4eaba10-6d27-4ccc-b1b8-ae0becd2b94c"
      },
      "execution_count": 9,
      "outputs": [
        {
          "output_type": "stream",
          "name": "stdout",
          "text": [
            "5  is the number of sides\n",
            "6  is the number of sides\n",
            "4  is the number of sides\n",
            "3  is the number of sides\n",
            "0  is the number of sides\n"
          ]
        }
      ]
    },
    {
      "cell_type": "code",
      "source": [],
      "metadata": {
        "id": "V9cfSQsUiRN9"
      },
      "execution_count": null,
      "outputs": []
    }
  ]
}