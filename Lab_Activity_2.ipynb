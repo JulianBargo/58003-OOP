{
  "nbformat": 4,
  "nbformat_minor": 0,
  "metadata": {
    "colab": {
      "provenance": [],
      "authorship_tag": "ABX9TyPf29u/afKCFkg51ZZqWi17",
      "include_colab_link": true
    },
    "kernelspec": {
      "name": "python3",
      "display_name": "Python 3"
    },
    "language_info": {
      "name": "python"
    }
  },
  "cells": [
    {
      "cell_type": "markdown",
      "metadata": {
        "id": "view-in-github",
        "colab_type": "text"
      },
      "source": [
        "<a href=\"https://colab.research.google.com/github/JulianBargo/58003-OOP/blob/main/Lab_Activity_2.ipynb\" target=\"_parent\"><img src=\"https://colab.research.google.com/assets/colab-badge.svg\" alt=\"Open In Colab\"/></a>"
      ]
    },
    {
      "cell_type": "code",
      "execution_count": 1,
      "metadata": {
        "colab": {
          "base_uri": "https://localhost:8080/"
        },
        "id": "VdOLedeVR8fL",
        "outputId": "5a175159-9310-44ec-f6c9-e6cb1857e506"
      },
      "outputs": [
        {
          "output_type": "stream",
          "name": "stdout",
          "text": [
            "Enter Radius\n",
            "15\n",
            "Area of Circle : \n",
            "706.5\n",
            "Perimeter of Circle: \n",
            "94.2\n"
          ]
        }
      ],
      "source": [
        "print('Enter Radius')\n",
        "r = int(input())\n",
        "pi = 3.14\n",
        "r2 = r*r\n",
        "a = pi*r2\n",
        "print(\"Area of Circle : \")\n",
        "print(a)\n",
        "d = r*2\n",
        "p = pi*d\n",
        "print(\"Perimeter of Circle: \")\n",
        "print(p)"
      ]
    },
    {
      "cell_type": "code",
      "source": [
        "class Circle():\n",
        "  def __init__(self,r):\n",
        "    self.radius = r\n",
        "\n",
        "  def area(self):\n",
        "      return self.radius**2*3.14\n",
        "\n",
        "  def perimeter(self):\n",
        "      return 2*self.radius*3.14\n",
        "\n",
        "NewCircle = Circle(8)\n",
        "print(NewCircle.area())\n",
        "print(NewCircle.perimeter())"
      ],
      "metadata": {
        "colab": {
          "base_uri": "https://localhost:8080/"
        },
        "id": "RFRRd0x0S8cd",
        "outputId": "fced80cf-c696-4dbd-ab4c-c3e9b50c7ed6"
      },
      "execution_count": 6,
      "outputs": [
        {
          "output_type": "stream",
          "name": "stdout",
          "text": [
            "200.96\n",
            "50.24\n"
          ]
        }
      ]
    },
    {
      "cell_type": "code",
      "source": [
        "class Rectangle():\n",
        "  def __init__(self,l,w):\n",
        "    self.length = l\n",
        "    self.width = w\n",
        "\n",
        "  def rectangle_area(self):\n",
        "    return self.length*self.width\n",
        "  def rectangle_perimeter(self):\n",
        "    return 2*(self.length+self.width)\n",
        "\n",
        "newRectangle = Rectangle(12,10)\n",
        "print(\"Area of Rectangle:\", newRectangle.rectangle_area())\n",
        "\n",
        "newRectangle1 = Rectangle(12,10)\n",
        "print(\"Perimeter of Rectangle\",newRectangle1.rectangle_perimeter())"
      ],
      "metadata": {
        "colab": {
          "base_uri": "https://localhost:8080/"
        },
        "id": "sNbEwoMfTBmN",
        "outputId": "547e1283-9eeb-4c92-db7f-31627e771000"
      },
      "execution_count": 9,
      "outputs": [
        {
          "output_type": "stream",
          "name": "stdout",
          "text": [
            "Area of rectangle: 120\n",
            "Perimeter of rectangle 44\n"
          ]
        }
      ]
    }
  ]
}